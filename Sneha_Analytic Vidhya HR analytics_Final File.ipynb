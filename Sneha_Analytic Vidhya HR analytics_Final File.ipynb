{
 "cells": [
  {
   "cell_type": "markdown",
   "metadata": {},
   "source": [
    "# Name -Sneha Lokare"
   ]
  },
  {
   "cell_type": "markdown",
   "metadata": {},
   "source": [
    "# HR Analytics"
   ]
  },
  {
   "cell_type": "markdown",
   "metadata": {},
   "source": [
    "# Import all important libraries"
   ]
  },
  {
   "cell_type": "code",
   "execution_count": 2,
   "metadata": {},
   "outputs": [],
   "source": [
    "import pandas as pd\n",
    "import numpy as  np\n",
    "import seaborn as sns\n",
    "import matplotlib.pyplot as plt \n",
    "from sklearn.preprocessing import LabelEncoder\n",
    "from sklearn.model_selection import train_test_split\n",
    "from sklearn.metrics import accuracy_score\n",
    "from sklearn.metrics import precision_score\n",
    "from sklearn.metrics import recall_score\n",
    "from sklearn.metrics import roc_auc_score\n",
    "from sklearn.metrics import f1_score\n",
    "from sklearn.metrics import confusion_matrix\n",
    "from sklearn.metrics import classification_report\n",
    "from sklearn.preprocessing import StandardScaler\n",
    "from sklearn.preprocessing import MinMaxScaler\n",
    "from sklearn.linear_model import LogisticRegression\n",
    "from xgboost import XGBClassifier\n",
    "import statsmodels.api as sm\n",
    "import xgboost as xgb\n",
    "import lightgbm\n",
    "from sklearn.model_selection import RandomizedSearchCV\n",
    "from sklearn.model_selection import GridSearchCV, train_test_split, cross_val_score"
   ]
  },
  {
   "cell_type": "markdown",
   "metadata": {},
   "source": [
    "# Read Dataset"
   ]
  },
  {
   "cell_type": "code",
   "execution_count": 3,
   "metadata": {},
   "outputs": [
    {
     "data": {
      "text/html": [
       "<div>\n",
       "<style scoped>\n",
       "    .dataframe tbody tr th:only-of-type {\n",
       "        vertical-align: middle;\n",
       "    }\n",
       "\n",
       "    .dataframe tbody tr th {\n",
       "        vertical-align: top;\n",
       "    }\n",
       "\n",
       "    .dataframe thead th {\n",
       "        text-align: right;\n",
       "    }\n",
       "</style>\n",
       "<table border=\"1\" class=\"dataframe\">\n",
       "  <thead>\n",
       "    <tr style=\"text-align: right;\">\n",
       "      <th></th>\n",
       "      <th>employee_id</th>\n",
       "      <th>department</th>\n",
       "      <th>region</th>\n",
       "      <th>education</th>\n",
       "      <th>gender</th>\n",
       "      <th>recruitment_channel</th>\n",
       "      <th>no_of_trainings</th>\n",
       "      <th>age</th>\n",
       "      <th>previous_year_rating</th>\n",
       "      <th>length_of_service</th>\n",
       "      <th>KPIs_met &gt;80%</th>\n",
       "      <th>awards_won?</th>\n",
       "      <th>avg_training_score</th>\n",
       "      <th>is_promoted</th>\n",
       "    </tr>\n",
       "  </thead>\n",
       "  <tbody>\n",
       "    <tr>\n",
       "      <th>0</th>\n",
       "      <td>65438</td>\n",
       "      <td>Sales &amp; Marketing</td>\n",
       "      <td>region_7</td>\n",
       "      <td>Master's &amp; above</td>\n",
       "      <td>f</td>\n",
       "      <td>sourcing</td>\n",
       "      <td>1</td>\n",
       "      <td>35</td>\n",
       "      <td>5.0</td>\n",
       "      <td>8</td>\n",
       "      <td>1</td>\n",
       "      <td>0</td>\n",
       "      <td>49</td>\n",
       "      <td>0</td>\n",
       "    </tr>\n",
       "    <tr>\n",
       "      <th>1</th>\n",
       "      <td>65141</td>\n",
       "      <td>Operations</td>\n",
       "      <td>region_22</td>\n",
       "      <td>Bachelor's</td>\n",
       "      <td>m</td>\n",
       "      <td>other</td>\n",
       "      <td>1</td>\n",
       "      <td>30</td>\n",
       "      <td>5.0</td>\n",
       "      <td>4</td>\n",
       "      <td>0</td>\n",
       "      <td>0</td>\n",
       "      <td>60</td>\n",
       "      <td>0</td>\n",
       "    </tr>\n",
       "    <tr>\n",
       "      <th>2</th>\n",
       "      <td>7513</td>\n",
       "      <td>Sales &amp; Marketing</td>\n",
       "      <td>region_19</td>\n",
       "      <td>Bachelor's</td>\n",
       "      <td>m</td>\n",
       "      <td>sourcing</td>\n",
       "      <td>1</td>\n",
       "      <td>34</td>\n",
       "      <td>3.0</td>\n",
       "      <td>7</td>\n",
       "      <td>0</td>\n",
       "      <td>0</td>\n",
       "      <td>50</td>\n",
       "      <td>0</td>\n",
       "    </tr>\n",
       "    <tr>\n",
       "      <th>3</th>\n",
       "      <td>2542</td>\n",
       "      <td>Sales &amp; Marketing</td>\n",
       "      <td>region_23</td>\n",
       "      <td>Bachelor's</td>\n",
       "      <td>m</td>\n",
       "      <td>other</td>\n",
       "      <td>2</td>\n",
       "      <td>39</td>\n",
       "      <td>1.0</td>\n",
       "      <td>10</td>\n",
       "      <td>0</td>\n",
       "      <td>0</td>\n",
       "      <td>50</td>\n",
       "      <td>0</td>\n",
       "    </tr>\n",
       "  </tbody>\n",
       "</table>\n",
       "</div>"
      ],
      "text/plain": [
       "   employee_id         department     region         education gender  \\\n",
       "0        65438  Sales & Marketing   region_7  Master's & above      f   \n",
       "1        65141         Operations  region_22        Bachelor's      m   \n",
       "2         7513  Sales & Marketing  region_19        Bachelor's      m   \n",
       "3         2542  Sales & Marketing  region_23        Bachelor's      m   \n",
       "\n",
       "  recruitment_channel  no_of_trainings  age  previous_year_rating  \\\n",
       "0            sourcing                1   35                   5.0   \n",
       "1               other                1   30                   5.0   \n",
       "2            sourcing                1   34                   3.0   \n",
       "3               other                2   39                   1.0   \n",
       "\n",
       "   length_of_service  KPIs_met >80%  awards_won?  avg_training_score  \\\n",
       "0                  8              1            0                  49   \n",
       "1                  4              0            0                  60   \n",
       "2                  7              0            0                  50   \n",
       "3                 10              0            0                  50   \n",
       "\n",
       "   is_promoted  \n",
       "0            0  \n",
       "1            0  \n",
       "2            0  \n",
       "3            0  "
      ]
     },
     "execution_count": 3,
     "metadata": {},
     "output_type": "execute_result"
    }
   ],
   "source": [
    "df_train=pd.read_csv(\"D:\\\\Analytics Vidhya\\\\train_LZdllcl.csv\")\n",
    "df_train.head(4)"
   ]
  },
  {
   "cell_type": "markdown",
   "metadata": {},
   "source": [
    "# Exploratory Data Analysis"
   ]
  },
  {
   "cell_type": "code",
   "execution_count": 4,
   "metadata": {},
   "outputs": [
    {
     "data": {
      "text/plain": [
       "(54808, 14)"
      ]
     },
     "execution_count": 4,
     "metadata": {},
     "output_type": "execute_result"
    }
   ],
   "source": [
    "df_train.shape"
   ]
  },
  {
   "cell_type": "code",
   "execution_count": 5,
   "metadata": {},
   "outputs": [
    {
     "data": {
      "text/plain": [
       "Index(['employee_id', 'department', 'region', 'education', 'gender',\n",
       "       'recruitment_channel', 'no_of_trainings', 'age', 'previous_year_rating',\n",
       "       'length_of_service', 'KPIs_met >80%', 'awards_won?',\n",
       "       'avg_training_score', 'is_promoted'],\n",
       "      dtype='object')"
      ]
     },
     "execution_count": 5,
     "metadata": {},
     "output_type": "execute_result"
    }
   ],
   "source": [
    "df_train.columns"
   ]
  },
  {
   "cell_type": "code",
   "execution_count": 6,
   "metadata": {},
   "outputs": [
    {
     "data": {
      "text/plain": [
       "employee_id               int64\n",
       "department               object\n",
       "region                   object\n",
       "education                object\n",
       "gender                   object\n",
       "recruitment_channel      object\n",
       "no_of_trainings           int64\n",
       "age                       int64\n",
       "previous_year_rating    float64\n",
       "length_of_service         int64\n",
       "KPIs_met >80%             int64\n",
       "awards_won?               int64\n",
       "avg_training_score        int64\n",
       "is_promoted               int64\n",
       "dtype: object"
      ]
     },
     "execution_count": 6,
     "metadata": {},
     "output_type": "execute_result"
    }
   ],
   "source": [
    "df_train.dtypes"
   ]
  },
  {
   "cell_type": "code",
   "execution_count": 7,
   "metadata": {},
   "outputs": [
    {
     "data": {
      "text/html": [
       "<div>\n",
       "<style scoped>\n",
       "    .dataframe tbody tr th:only-of-type {\n",
       "        vertical-align: middle;\n",
       "    }\n",
       "\n",
       "    .dataframe tbody tr th {\n",
       "        vertical-align: top;\n",
       "    }\n",
       "\n",
       "    .dataframe thead th {\n",
       "        text-align: right;\n",
       "    }\n",
       "</style>\n",
       "<table border=\"1\" class=\"dataframe\">\n",
       "  <thead>\n",
       "    <tr style=\"text-align: right;\">\n",
       "      <th></th>\n",
       "      <th>employee_id</th>\n",
       "      <th>no_of_trainings</th>\n",
       "      <th>age</th>\n",
       "      <th>previous_year_rating</th>\n",
       "      <th>length_of_service</th>\n",
       "      <th>KPIs_met &gt;80%</th>\n",
       "      <th>awards_won?</th>\n",
       "      <th>avg_training_score</th>\n",
       "      <th>is_promoted</th>\n",
       "    </tr>\n",
       "  </thead>\n",
       "  <tbody>\n",
       "    <tr>\n",
       "      <th>count</th>\n",
       "      <td>54808.000000</td>\n",
       "      <td>54808.000000</td>\n",
       "      <td>54808.000000</td>\n",
       "      <td>50684.000000</td>\n",
       "      <td>54808.000000</td>\n",
       "      <td>54808.000000</td>\n",
       "      <td>54808.000000</td>\n",
       "      <td>54808.000000</td>\n",
       "      <td>54808.000000</td>\n",
       "    </tr>\n",
       "    <tr>\n",
       "      <th>mean</th>\n",
       "      <td>39195.830627</td>\n",
       "      <td>1.253011</td>\n",
       "      <td>34.803915</td>\n",
       "      <td>3.329256</td>\n",
       "      <td>5.865512</td>\n",
       "      <td>0.351974</td>\n",
       "      <td>0.023172</td>\n",
       "      <td>63.386750</td>\n",
       "      <td>0.085170</td>\n",
       "    </tr>\n",
       "    <tr>\n",
       "      <th>std</th>\n",
       "      <td>22586.581449</td>\n",
       "      <td>0.609264</td>\n",
       "      <td>7.660169</td>\n",
       "      <td>1.259993</td>\n",
       "      <td>4.265094</td>\n",
       "      <td>0.477590</td>\n",
       "      <td>0.150450</td>\n",
       "      <td>13.371559</td>\n",
       "      <td>0.279137</td>\n",
       "    </tr>\n",
       "    <tr>\n",
       "      <th>min</th>\n",
       "      <td>1.000000</td>\n",
       "      <td>1.000000</td>\n",
       "      <td>20.000000</td>\n",
       "      <td>1.000000</td>\n",
       "      <td>1.000000</td>\n",
       "      <td>0.000000</td>\n",
       "      <td>0.000000</td>\n",
       "      <td>39.000000</td>\n",
       "      <td>0.000000</td>\n",
       "    </tr>\n",
       "    <tr>\n",
       "      <th>25%</th>\n",
       "      <td>19669.750000</td>\n",
       "      <td>1.000000</td>\n",
       "      <td>29.000000</td>\n",
       "      <td>3.000000</td>\n",
       "      <td>3.000000</td>\n",
       "      <td>0.000000</td>\n",
       "      <td>0.000000</td>\n",
       "      <td>51.000000</td>\n",
       "      <td>0.000000</td>\n",
       "    </tr>\n",
       "    <tr>\n",
       "      <th>50%</th>\n",
       "      <td>39225.500000</td>\n",
       "      <td>1.000000</td>\n",
       "      <td>33.000000</td>\n",
       "      <td>3.000000</td>\n",
       "      <td>5.000000</td>\n",
       "      <td>0.000000</td>\n",
       "      <td>0.000000</td>\n",
       "      <td>60.000000</td>\n",
       "      <td>0.000000</td>\n",
       "    </tr>\n",
       "    <tr>\n",
       "      <th>75%</th>\n",
       "      <td>58730.500000</td>\n",
       "      <td>1.000000</td>\n",
       "      <td>39.000000</td>\n",
       "      <td>4.000000</td>\n",
       "      <td>7.000000</td>\n",
       "      <td>1.000000</td>\n",
       "      <td>0.000000</td>\n",
       "      <td>76.000000</td>\n",
       "      <td>0.000000</td>\n",
       "    </tr>\n",
       "    <tr>\n",
       "      <th>max</th>\n",
       "      <td>78298.000000</td>\n",
       "      <td>10.000000</td>\n",
       "      <td>60.000000</td>\n",
       "      <td>5.000000</td>\n",
       "      <td>37.000000</td>\n",
       "      <td>1.000000</td>\n",
       "      <td>1.000000</td>\n",
       "      <td>99.000000</td>\n",
       "      <td>1.000000</td>\n",
       "    </tr>\n",
       "  </tbody>\n",
       "</table>\n",
       "</div>"
      ],
      "text/plain": [
       "        employee_id  no_of_trainings           age  previous_year_rating  \\\n",
       "count  54808.000000     54808.000000  54808.000000          50684.000000   \n",
       "mean   39195.830627         1.253011     34.803915              3.329256   \n",
       "std    22586.581449         0.609264      7.660169              1.259993   \n",
       "min        1.000000         1.000000     20.000000              1.000000   \n",
       "25%    19669.750000         1.000000     29.000000              3.000000   \n",
       "50%    39225.500000         1.000000     33.000000              3.000000   \n",
       "75%    58730.500000         1.000000     39.000000              4.000000   \n",
       "max    78298.000000        10.000000     60.000000              5.000000   \n",
       "\n",
       "       length_of_service  KPIs_met >80%   awards_won?  avg_training_score  \\\n",
       "count       54808.000000   54808.000000  54808.000000        54808.000000   \n",
       "mean            5.865512       0.351974      0.023172           63.386750   \n",
       "std             4.265094       0.477590      0.150450           13.371559   \n",
       "min             1.000000       0.000000      0.000000           39.000000   \n",
       "25%             3.000000       0.000000      0.000000           51.000000   \n",
       "50%             5.000000       0.000000      0.000000           60.000000   \n",
       "75%             7.000000       1.000000      0.000000           76.000000   \n",
       "max            37.000000       1.000000      1.000000           99.000000   \n",
       "\n",
       "        is_promoted  \n",
       "count  54808.000000  \n",
       "mean       0.085170  \n",
       "std        0.279137  \n",
       "min        0.000000  \n",
       "25%        0.000000  \n",
       "50%        0.000000  \n",
       "75%        0.000000  \n",
       "max        1.000000  "
      ]
     },
     "execution_count": 7,
     "metadata": {},
     "output_type": "execute_result"
    }
   ],
   "source": [
    "df_train.describe()"
   ]
  },
  {
   "cell_type": "markdown",
   "metadata": {},
   "source": [
    "# Checking null values"
   ]
  },
  {
   "cell_type": "code",
   "execution_count": 8,
   "metadata": {},
   "outputs": [
    {
     "data": {
      "text/plain": [
       "employee_id                0\n",
       "department                 0\n",
       "region                     0\n",
       "education               2409\n",
       "gender                     0\n",
       "recruitment_channel        0\n",
       "no_of_trainings            0\n",
       "age                        0\n",
       "previous_year_rating    4124\n",
       "length_of_service          0\n",
       "KPIs_met >80%              0\n",
       "awards_won?                0\n",
       "avg_training_score         0\n",
       "is_promoted                0\n",
       "dtype: int64"
      ]
     },
     "execution_count": 8,
     "metadata": {},
     "output_type": "execute_result"
    }
   ],
   "source": [
    "df_train.isnull().sum()"
   ]
  },
  {
   "cell_type": "code",
   "execution_count": 9,
   "metadata": {},
   "outputs": [
    {
     "data": {
      "text/html": [
       "<div>\n",
       "<style scoped>\n",
       "    .dataframe tbody tr th:only-of-type {\n",
       "        vertical-align: middle;\n",
       "    }\n",
       "\n",
       "    .dataframe tbody tr th {\n",
       "        vertical-align: top;\n",
       "    }\n",
       "\n",
       "    .dataframe thead th {\n",
       "        text-align: right;\n",
       "    }\n",
       "</style>\n",
       "<table border=\"1\" class=\"dataframe\">\n",
       "  <thead>\n",
       "    <tr style=\"text-align: right;\">\n",
       "      <th></th>\n",
       "      <th>Missing Ratio</th>\n",
       "    </tr>\n",
       "  </thead>\n",
       "  <tbody>\n",
       "    <tr>\n",
       "      <th>employee_id</th>\n",
       "      <td>0.000000</td>\n",
       "    </tr>\n",
       "    <tr>\n",
       "      <th>department</th>\n",
       "      <td>0.000000</td>\n",
       "    </tr>\n",
       "    <tr>\n",
       "      <th>region</th>\n",
       "      <td>0.000000</td>\n",
       "    </tr>\n",
       "    <tr>\n",
       "      <th>education</th>\n",
       "      <td>4.395344</td>\n",
       "    </tr>\n",
       "    <tr>\n",
       "      <th>gender</th>\n",
       "      <td>0.000000</td>\n",
       "    </tr>\n",
       "    <tr>\n",
       "      <th>recruitment_channel</th>\n",
       "      <td>0.000000</td>\n",
       "    </tr>\n",
       "    <tr>\n",
       "      <th>no_of_trainings</th>\n",
       "      <td>0.000000</td>\n",
       "    </tr>\n",
       "    <tr>\n",
       "      <th>age</th>\n",
       "      <td>0.000000</td>\n",
       "    </tr>\n",
       "    <tr>\n",
       "      <th>previous_year_rating</th>\n",
       "      <td>7.524449</td>\n",
       "    </tr>\n",
       "    <tr>\n",
       "      <th>length_of_service</th>\n",
       "      <td>0.000000</td>\n",
       "    </tr>\n",
       "    <tr>\n",
       "      <th>KPIs_met &gt;80%</th>\n",
       "      <td>0.000000</td>\n",
       "    </tr>\n",
       "    <tr>\n",
       "      <th>awards_won?</th>\n",
       "      <td>0.000000</td>\n",
       "    </tr>\n",
       "    <tr>\n",
       "      <th>avg_training_score</th>\n",
       "      <td>0.000000</td>\n",
       "    </tr>\n",
       "    <tr>\n",
       "      <th>is_promoted</th>\n",
       "      <td>0.000000</td>\n",
       "    </tr>\n",
       "  </tbody>\n",
       "</table>\n",
       "</div>"
      ],
      "text/plain": [
       "                      Missing Ratio\n",
       "employee_id                0.000000\n",
       "department                 0.000000\n",
       "region                     0.000000\n",
       "education                  4.395344\n",
       "gender                     0.000000\n",
       "recruitment_channel        0.000000\n",
       "no_of_trainings            0.000000\n",
       "age                        0.000000\n",
       "previous_year_rating       7.524449\n",
       "length_of_service          0.000000\n",
       "KPIs_met >80%              0.000000\n",
       "awards_won?                0.000000\n",
       "avg_training_score         0.000000\n",
       "is_promoted                0.000000"
      ]
     },
     "execution_count": 9,
     "metadata": {},
     "output_type": "execute_result"
    }
   ],
   "source": [
    "all_data_na = (df_train.isnull().sum() / len(df_train)) * 100\n",
    "missing_data = pd.DataFrame({'Missing Ratio' :all_data_na})\n",
    "missing_data"
   ]
  },
  {
   "cell_type": "code",
   "execution_count": 10,
   "metadata": {},
   "outputs": [
    {
     "data": {
      "text/plain": [
       "3.0    18618\n",
       "5.0    11741\n",
       "4.0     9877\n",
       "1.0     6223\n",
       "2.0     4225\n",
       "Name: previous_year_rating, dtype: int64"
      ]
     },
     "execution_count": 10,
     "metadata": {},
     "output_type": "execute_result"
    }
   ],
   "source": [
    "df_train[\"previous_year_rating\"].value_counts()"
   ]
  },
  {
   "cell_type": "code",
   "execution_count": 11,
   "metadata": {},
   "outputs": [
    {
     "data": {
      "text/plain": [
       "Bachelor's          36669\n",
       "Master's & above    14925\n",
       "Below Secondary       805\n",
       "Name: education, dtype: int64"
      ]
     },
     "execution_count": 11,
     "metadata": {},
     "output_type": "execute_result"
    }
   ],
   "source": [
    "df_train['education'].value_counts()"
   ]
  },
  {
   "cell_type": "markdown",
   "metadata": {},
   "source": [
    "# Filling Null Values"
   ]
  },
  {
   "cell_type": "code",
   "execution_count": 12,
   "metadata": {},
   "outputs": [],
   "source": [
    "df_train['education'].fillna(df_train['education'].mode()[0],inplace = True)\n",
    "df_train[\"previous_year_rating\"].fillna(df_train[\"previous_year_rating\"].mode()[0],inplace = True)"
   ]
  },
  {
   "cell_type": "code",
   "execution_count": 13,
   "metadata": {},
   "outputs": [
    {
     "data": {
      "text/plain": [
       "employee_id             0\n",
       "department              0\n",
       "region                  0\n",
       "education               0\n",
       "gender                  0\n",
       "recruitment_channel     0\n",
       "no_of_trainings         0\n",
       "age                     0\n",
       "previous_year_rating    0\n",
       "length_of_service       0\n",
       "KPIs_met >80%           0\n",
       "awards_won?             0\n",
       "avg_training_score      0\n",
       "is_promoted             0\n",
       "dtype: int64"
      ]
     },
     "execution_count": 13,
     "metadata": {},
     "output_type": "execute_result"
    }
   ],
   "source": [
    "df_train.isnull().sum()"
   ]
  },
  {
   "cell_type": "markdown",
   "metadata": {},
   "source": [
    "# Checking Correlation"
   ]
  },
  {
   "cell_type": "code",
   "execution_count": 14,
   "metadata": {},
   "outputs": [
    {
     "data": {
      "text/html": [
       "<div>\n",
       "<style scoped>\n",
       "    .dataframe tbody tr th:only-of-type {\n",
       "        vertical-align: middle;\n",
       "    }\n",
       "\n",
       "    .dataframe tbody tr th {\n",
       "        vertical-align: top;\n",
       "    }\n",
       "\n",
       "    .dataframe thead th {\n",
       "        text-align: right;\n",
       "    }\n",
       "</style>\n",
       "<table border=\"1\" class=\"dataframe\">\n",
       "  <thead>\n",
       "    <tr style=\"text-align: right;\">\n",
       "      <th></th>\n",
       "      <th>employee_id</th>\n",
       "      <th>no_of_trainings</th>\n",
       "      <th>age</th>\n",
       "      <th>previous_year_rating</th>\n",
       "      <th>length_of_service</th>\n",
       "      <th>KPIs_met &gt;80%</th>\n",
       "      <th>awards_won?</th>\n",
       "      <th>avg_training_score</th>\n",
       "      <th>is_promoted</th>\n",
       "    </tr>\n",
       "  </thead>\n",
       "  <tbody>\n",
       "    <tr>\n",
       "      <th>employee_id</th>\n",
       "      <td>1.000000</td>\n",
       "      <td>-0.005121</td>\n",
       "      <td>0.000437</td>\n",
       "      <td>0.004209</td>\n",
       "      <td>0.001274</td>\n",
       "      <td>-0.002501</td>\n",
       "      <td>0.008420</td>\n",
       "      <td>-0.000586</td>\n",
       "      <td>0.001206</td>\n",
       "    </tr>\n",
       "    <tr>\n",
       "      <th>no_of_trainings</th>\n",
       "      <td>-0.005121</td>\n",
       "      <td>1.000000</td>\n",
       "      <td>-0.081278</td>\n",
       "      <td>-0.061564</td>\n",
       "      <td>-0.057275</td>\n",
       "      <td>-0.045576</td>\n",
       "      <td>-0.007628</td>\n",
       "      <td>0.042517</td>\n",
       "      <td>-0.024896</td>\n",
       "    </tr>\n",
       "    <tr>\n",
       "      <th>age</th>\n",
       "      <td>0.000437</td>\n",
       "      <td>-0.081278</td>\n",
       "      <td>1.000000</td>\n",
       "      <td>0.026810</td>\n",
       "      <td>0.657111</td>\n",
       "      <td>-0.025592</td>\n",
       "      <td>-0.008169</td>\n",
       "      <td>-0.048380</td>\n",
       "      <td>-0.017166</td>\n",
       "    </tr>\n",
       "    <tr>\n",
       "      <th>previous_year_rating</th>\n",
       "      <td>0.004209</td>\n",
       "      <td>-0.061564</td>\n",
       "      <td>0.026810</td>\n",
       "      <td>1.000000</td>\n",
       "      <td>0.023504</td>\n",
       "      <td>0.337367</td>\n",
       "      <td>0.026587</td>\n",
       "      <td>0.071926</td>\n",
       "      <td>0.153230</td>\n",
       "    </tr>\n",
       "    <tr>\n",
       "      <th>length_of_service</th>\n",
       "      <td>0.001274</td>\n",
       "      <td>-0.057275</td>\n",
       "      <td>0.657111</td>\n",
       "      <td>0.023504</td>\n",
       "      <td>1.000000</td>\n",
       "      <td>-0.077693</td>\n",
       "      <td>-0.039927</td>\n",
       "      <td>-0.038122</td>\n",
       "      <td>-0.010670</td>\n",
       "    </tr>\n",
       "    <tr>\n",
       "      <th>KPIs_met &gt;80%</th>\n",
       "      <td>-0.002501</td>\n",
       "      <td>-0.045576</td>\n",
       "      <td>-0.025592</td>\n",
       "      <td>0.337367</td>\n",
       "      <td>-0.077693</td>\n",
       "      <td>1.000000</td>\n",
       "      <td>0.097000</td>\n",
       "      <td>0.078391</td>\n",
       "      <td>0.221582</td>\n",
       "    </tr>\n",
       "    <tr>\n",
       "      <th>awards_won?</th>\n",
       "      <td>0.008420</td>\n",
       "      <td>-0.007628</td>\n",
       "      <td>-0.008169</td>\n",
       "      <td>0.026587</td>\n",
       "      <td>-0.039927</td>\n",
       "      <td>0.097000</td>\n",
       "      <td>1.000000</td>\n",
       "      <td>0.072138</td>\n",
       "      <td>0.195871</td>\n",
       "    </tr>\n",
       "    <tr>\n",
       "      <th>avg_training_score</th>\n",
       "      <td>-0.000586</td>\n",
       "      <td>0.042517</td>\n",
       "      <td>-0.048380</td>\n",
       "      <td>0.071926</td>\n",
       "      <td>-0.038122</td>\n",
       "      <td>0.078391</td>\n",
       "      <td>0.072138</td>\n",
       "      <td>1.000000</td>\n",
       "      <td>0.181147</td>\n",
       "    </tr>\n",
       "    <tr>\n",
       "      <th>is_promoted</th>\n",
       "      <td>0.001206</td>\n",
       "      <td>-0.024896</td>\n",
       "      <td>-0.017166</td>\n",
       "      <td>0.153230</td>\n",
       "      <td>-0.010670</td>\n",
       "      <td>0.221582</td>\n",
       "      <td>0.195871</td>\n",
       "      <td>0.181147</td>\n",
       "      <td>1.000000</td>\n",
       "    </tr>\n",
       "  </tbody>\n",
       "</table>\n",
       "</div>"
      ],
      "text/plain": [
       "                      employee_id  no_of_trainings       age  \\\n",
       "employee_id              1.000000        -0.005121  0.000437   \n",
       "no_of_trainings         -0.005121         1.000000 -0.081278   \n",
       "age                      0.000437        -0.081278  1.000000   \n",
       "previous_year_rating     0.004209        -0.061564  0.026810   \n",
       "length_of_service        0.001274        -0.057275  0.657111   \n",
       "KPIs_met >80%           -0.002501        -0.045576 -0.025592   \n",
       "awards_won?              0.008420        -0.007628 -0.008169   \n",
       "avg_training_score      -0.000586         0.042517 -0.048380   \n",
       "is_promoted              0.001206        -0.024896 -0.017166   \n",
       "\n",
       "                      previous_year_rating  length_of_service  KPIs_met >80%  \\\n",
       "employee_id                       0.004209           0.001274      -0.002501   \n",
       "no_of_trainings                  -0.061564          -0.057275      -0.045576   \n",
       "age                               0.026810           0.657111      -0.025592   \n",
       "previous_year_rating              1.000000           0.023504       0.337367   \n",
       "length_of_service                 0.023504           1.000000      -0.077693   \n",
       "KPIs_met >80%                     0.337367          -0.077693       1.000000   \n",
       "awards_won?                       0.026587          -0.039927       0.097000   \n",
       "avg_training_score                0.071926          -0.038122       0.078391   \n",
       "is_promoted                       0.153230          -0.010670       0.221582   \n",
       "\n",
       "                      awards_won?  avg_training_score  is_promoted  \n",
       "employee_id              0.008420           -0.000586     0.001206  \n",
       "no_of_trainings         -0.007628            0.042517    -0.024896  \n",
       "age                     -0.008169           -0.048380    -0.017166  \n",
       "previous_year_rating     0.026587            0.071926     0.153230  \n",
       "length_of_service       -0.039927           -0.038122    -0.010670  \n",
       "KPIs_met >80%            0.097000            0.078391     0.221582  \n",
       "awards_won?              1.000000            0.072138     0.195871  \n",
       "avg_training_score       0.072138            1.000000     0.181147  \n",
       "is_promoted              0.195871            0.181147     1.000000  "
      ]
     },
     "execution_count": 14,
     "metadata": {},
     "output_type": "execute_result"
    }
   ],
   "source": [
    "df_train.corr()"
   ]
  },
  {
   "cell_type": "code",
   "execution_count": 15,
   "metadata": {},
   "outputs": [
    {
     "data": {
      "image/png": "[encoded data removed]",
      "text/plain": [
       "<Figure size 864x576 with 2 Axes>"
      ]
     },
     "metadata": {
      "needs_background": "light"
     },
     "output_type": "display_data"
    }
   ],
   "source": [
    "plt.figure(figsize=(12,8))\n",
    "cor = df_train.corr()\n",
    "sns.heatmap(cor, annot=True, cmap=plt.cm.Reds)\n",
    "plt.show()"
   ]
  },
  {
   "cell_type": "code",
   "execution_count": 16,
   "metadata": {},
   "outputs": [
    {
     "data": {
      "text/plain": [
       "gender  is_promoted\n",
       "f       0              14845\n",
       "        1               1467\n",
       "m       0              35295\n",
       "        1               3201\n",
       "Name: is_promoted, dtype: int64"
      ]
     },
     "execution_count": 16,
     "metadata": {},
     "output_type": "execute_result"
    }
   ],
   "source": [
    "df_train.groupby(\"gender\")['is_promoted'].value_counts()"
   ]
  },
  {
   "cell_type": "code",
   "execution_count": 17,
   "metadata": {},
   "outputs": [
    {
     "data": {
      "text/plain": [
       "<matplotlib.axes._subplots.AxesSubplot at 0x286ef7c4a58>"
      ]
     },
     "execution_count": 17,
     "metadata": {},
     "output_type": "execute_result"
    },
    {
     "data": {
      "image/png": "[encoded data removed]",
      "text/plain": [
       "<Figure size 432x288 with 1 Axes>"
      ]
     },
     "metadata": {
      "needs_background": "light"
     },
     "output_type": "display_data"
    }
   ],
   "source": [
    "df_train.groupby(\"previous_year_rating\")['is_promoted'].value_counts().unstack().plot(kind='bar',stacked=True)"
   ]
  },
  {
   "cell_type": "markdown",
   "metadata": {},
   "source": [
    "In above plot it shows previous_year_rating rating 3 is higher.Rating 3 and more has higher chance of getting promoted."
   ]
  },
  {
   "cell_type": "code",
   "execution_count": 18,
   "metadata": {},
   "outputs": [
    {
     "data": {
      "text/plain": [
       "<matplotlib.axes._subplots.AxesSubplot at 0x286efc1e2b0>"
      ]
     },
     "execution_count": 18,
     "metadata": {},
     "output_type": "execute_result"
    },
    {
     "data": {
      "image/png": "[encoded data removed]",
      "text/plain": [
       "<Figure size 432x288 with 1 Axes>"
      ]
     },
     "metadata": {
      "needs_background": "light"
     },
     "output_type": "display_data"
    }
   ],
   "source": [
    "df_train.groupby(\"gender\")['is_promoted'].value_counts().unstack().plot(kind='bar',stacked=True)"
   ]
  },
  {
   "cell_type": "raw",
   "metadata": {},
   "source": [
    "Male gender employees highly promoted than female employees"
   ]
  },
  {
   "cell_type": "code",
   "execution_count": 19,
   "metadata": {},
   "outputs": [
    {
     "data": {
      "text/plain": [
       "gender  is_promoted\n",
       "f       0              14845\n",
       "        1               1467\n",
       "m       0              35295\n",
       "        1               3201\n",
       "Name: is_promoted, dtype: int64"
      ]
     },
     "execution_count": 19,
     "metadata": {},
     "output_type": "execute_result"
    }
   ],
   "source": [
    "df_train.groupby(\"gender\")['is_promoted'].value_counts()"
   ]
  },
  {
   "cell_type": "code",
   "execution_count": 20,
   "metadata": {},
   "outputs": [
    {
     "data": {
      "text/plain": [
       "0    50140\n",
       "1     4668\n",
       "Name: is_promoted, dtype: int64"
      ]
     },
     "execution_count": 20,
     "metadata": {},
     "output_type": "execute_result"
    }
   ],
   "source": [
    "df_train[\"is_promoted\"].value_counts()"
   ]
  },
  {
   "cell_type": "markdown",
   "metadata": {},
   "source": [
    "Imbalance classification problem"
   ]
  },
  {
   "cell_type": "code",
   "execution_count": 21,
   "metadata": {},
   "outputs": [
    {
     "data": {
      "text/plain": [
       "previous_year_rating  is_promoted\n",
       "1.0                   0               6135\n",
       "                      1                 88\n",
       "2.0                   0               4044\n",
       "                      1                181\n",
       "3.0                   0              21048\n",
       "                      1               1694\n",
       "4.0                   0               9093\n",
       "                      1                784\n",
       "5.0                   0               9820\n",
       "                      1               1921\n",
       "Name: is_promoted, dtype: int64"
      ]
     },
     "execution_count": 21,
     "metadata": {},
     "output_type": "execute_result"
    }
   ],
   "source": [
    "df_train.groupby('previous_year_rating')['is_promoted'].value_counts()"
   ]
  },
  {
   "cell_type": "markdown",
   "metadata": {},
   "source": [
    "# Department & is_promoted bar chart"
   ]
  },
  {
   "cell_type": "code",
   "execution_count": 22,
   "metadata": {},
   "outputs": [
    {
     "data": {
      "text/plain": [
       "<matplotlib.axes._subplots.AxesSubplot at 0x286efc8c160>"
      ]
     },
     "execution_count": 22,
     "metadata": {},
     "output_type": "execute_result"
    },
    {
     "data": {
      "image/png": "[encoded data removed]",
      "text/plain": [
       "<Figure size 432x288 with 1 Axes>"
      ]
     },
     "metadata": {
      "needs_background": "light"
     },
     "output_type": "display_data"
    }
   ],
   "source": [
    "df_train.groupby(\"department\")['is_promoted'].value_counts().plot(kind='bar',\n",
    "                                                                  stacked=True)                                                                                                                                                                                                                                                                                                              "
   ]
  },
  {
   "cell_type": "code",
   "execution_count": 23,
   "metadata": {},
   "outputs": [
    {
     "name": "stdout",
     "output_type": "stream",
     "text": [
      "is_promoted            0     1    %_0    %_1\n",
      "department                                  \n",
      "Analytics           4840   512  90.43   9.57\n",
      "Finance             2330   206  91.88   8.12\n",
      "HR                  2282   136  94.38   5.62\n",
      "Legal                986    53  94.90   5.10\n",
      "Operations         10325  1023  90.99   9.01\n",
      "Procurement         6450   688  90.36   9.64\n",
      "R&D                  930    69  93.09   6.91\n",
      "Sales & Marketing  15627  1213  92.80   7.20\n",
      "Technology          6370   768  89.24  10.76\n",
      "is_promoted      0    1    %_0    %_1\n",
      "region                               \n",
      "region_1       552   58  90.49   9.51\n",
      "region_10      597   51  92.13   7.87\n",
      "region_11     1241   74  94.37   5.63\n",
      "region_12      467   33  93.40   6.60\n",
      "region_13     2418  230  91.31   8.69\n",
      "region_14      765   62  92.50   7.50\n",
      "region_15     2586  222  92.09   7.91\n",
      "region_16     1363  102  93.04   6.96\n",
      "region_17      687  109  86.31  13.69\n",
      "region_18       30    1  96.77   3.23\n",
      "region_19      821   53  93.94   6.06\n",
      "region_2     11354  989  91.99   8.01\n",
      "region_20      801   49  94.24   5.76\n",
      "region_21      393   18  95.62   4.38\n",
      "region_22     5694  734  88.58  11.42\n",
      "region_23     1038  137  88.34  11.66\n",
      "region_24      490   18  96.46   3.54\n",
      "region_25      716  103  87.42  12.58\n",
      "region_26     2117  143  93.67   6.33\n",
      "region_27     1528  131  92.10   7.90\n",
      "region_28     1164  154  88.32  11.68\n",
      "region_29      951   43  95.67   4.33\n",
      "region_3       309   37  89.31  10.69\n",
      "region_30      598   59  91.02   8.98\n",
      "region_31     1825  110  94.32   5.68\n",
      "region_32      905   40  95.77   4.23\n",
      "region_33      259   10  96.28   3.72\n",
      "region_34      284    8  97.26   2.74\n",
      "region_4      1457  246  85.55  14.45\n",
      "region_5       731   35  95.43   4.57\n",
      "region_6       658   32  95.36   4.64\n",
      "region_7      4327  516  89.35  10.65\n",
      "region_8       602   53  91.91   8.09\n",
      "region_9       412    8  98.10   1.90\n",
      "is_promoted           0     1    %_0   %_1\n",
      "education                                 \n",
      "Bachelor's        35948  3130  91.99  8.01\n",
      "Below Secondary     738    67  91.68  8.32\n",
      "Master's & above  13454  1471  90.14  9.86\n",
      "is_promoted      0     1    %_0   %_1\n",
      "gender                               \n",
      "f            14845  1467  91.01  8.99\n",
      "m            35295  3201  91.68  8.32\n",
      "is_promoted              0     1    %_0    %_1\n",
      "recruitment_channel                           \n",
      "other                27890  2556  91.60   8.40\n",
      "referred              1004   138  87.92  12.08\n",
      "sourcing             21246  1974  91.50   8.50\n"
     ]
    }
   ],
   "source": [
    "# EDA\n",
    "for col in df_train.drop('is_promoted', axis=1).columns:\n",
    "    if (df_train[col].dtype == 'object'):\n",
    "        xx = df_train.groupby(col)['is_promoted'].value_counts().unstack()\n",
    "        per_not_promoted = xx.iloc[:, 0] *100/xx.apply(lambda x: x.sum(), axis=1)\n",
    "        per_promoted = xx.iloc[:, 1]*100/xx.apply(lambda x: x.sum(), axis=1)\n",
    "        xx['%_0'] = round(per_not_promoted,2)\n",
    "        xx['%_1'] = round(per_promoted,2)\n",
    "        print(xx)"
   ]
  },
  {
   "cell_type": "markdown",
   "metadata": {},
   "source": [
    "Promotions are worst in Legal department (5.1%). Best promotions are in technology department (10.7%).\n",
    "Female employee is highly promoted as compare to male employee."
   ]
  },
  {
   "cell_type": "code",
   "execution_count": 24,
   "metadata": {},
   "outputs": [],
   "source": [
    "# Convert categorical to dummies\n",
    "def convert_categorical_to_dummies(df):\n",
    "    list_to_drop = []\n",
    "    for col in df.columns:\n",
    "        if df[col].dtype == 'object':\n",
    "            print(\"Converting....\", col)\n",
    "            list_to_drop.append(col)\n",
    "            df = pd.concat([df, pd.get_dummies(df[col], prefix=col, prefix_sep='_', drop_first=True)], axis=1)\n",
    "    return df, list_to_drop"
   ]
  },
  {
   "cell_type": "code",
   "execution_count": 25,
   "metadata": {},
   "outputs": [
    {
     "name": "stdout",
     "output_type": "stream",
     "text": [
      "Converting.... department\n",
      "Converting.... region\n",
      "Converting.... education\n",
      "Converting.... gender\n",
      "Converting.... recruitment_channel\n",
      "Total shape of Data : (54808, 60)\n",
      "Columns which need to be dropped : ['department', 'region', 'education', 'gender', 'recruitment_channel']\n",
      "Total shape of Data : (54808, 55)\n"
     ]
    }
   ],
   "source": [
    "# Convert data to dummy variables\n",
    "processed_data, list_to_drop = convert_categorical_to_dummies(df_train)\n",
    "print(\"Total shape of Data :\", processed_data.shape)\n",
    "print(\"Columns which need to be dropped :\", list_to_drop)\n",
    "processed_data = processed_data.drop(list_to_drop, axis = 1)\n",
    "print(\"Total shape of Data :\", processed_data.shape)\n",
    "\n",
    "train_xs = processed_data.drop(['employee_id',\"is_promoted\"],axis=1)\n",
    "labels = df_train[\"is_promoted\"]"
   ]
  },
  {
   "cell_type": "markdown",
   "metadata": {},
   "source": [
    "# Splitting Dataset"
   ]
  },
  {
   "cell_type": "markdown",
   "metadata": {},
   "source": [
    "x=train_xs & y=labels"
   ]
  },
  {
   "cell_type": "code",
   "execution_count": 73,
   "metadata": {},
   "outputs": [],
   "source": [
    "seed=10\n",
    "test_size=0.4\n",
    "x_train,x_test,y_train,y_test= train_test_split(train_xs,labels,test_size=test_size,random_state=seed)"
   ]
  },
  {
   "cell_type": "markdown",
   "metadata": {},
   "source": [
    "# Model Building"
   ]
  },
  {
   "cell_type": "markdown",
   "metadata": {},
   "source": [
    "# LogisticRegression"
   ]
  },
  {
   "cell_type": "code",
   "execution_count": 28,
   "metadata": {},
   "outputs": [
    {
     "name": "stderr",
     "output_type": "stream",
     "text": [
      "C:\\Users\\DELL\\Anaconda3\\lib\\site-packages\\sklearn\\linear_model\\_logistic.py:940: ConvergenceWarning: lbfgs failed to converge (status=1):\n",
      "STOP: TOTAL NO. of ITERATIONS REACHED LIMIT.\n",
      "\n",
      "Increase the number of iterations (max_iter) or scale the data as shown in:\n",
      "    https://scikit-learn.org/stable/modules/preprocessing.html\n",
      "Please also refer to the documentation for alternative solver options:\n",
      "    https://scikit-learn.org/stable/modules/linear_model.html#logistic-regression\n",
      "  extra_warning_msg=_LOGISTIC_SOLVER_CONVERGENCE_MSG)\n"
     ]
    }
   ],
   "source": [
    "lr =LogisticRegression()\n",
    "model = lr.fit(x_train,y_train)\n",
    "pred = model.predict(x_test)"
   ]
  },
  {
   "cell_type": "code",
   "execution_count": 29,
   "metadata": {},
   "outputs": [
    {
     "name": "stdout",
     "output_type": "stream",
     "text": [
      "Accuracy of Logistic Regression classifier on training set: 0.92\n",
      "Accuracy of Logistic Regression classifier on test set: 0.92\n"
     ]
    }
   ],
   "source": [
    "print('Accuracy of Logistic Regression classifier on training set: {:.2f}'\n",
    "     .format(model.score(x_train, y_train)))\n",
    "print('Accuracy of Logistic Regression classifier on test set: {:.2f}'\n",
    "     .format(model.score(x_test, y_test)))"
   ]
  },
  {
   "cell_type": "code",
   "execution_count": 30,
   "metadata": {},
   "outputs": [
    {
     "name": "stdout",
     "output_type": "stream",
     "text": [
      "[[19945   152]\n",
      " [ 1570   257]]\n",
      "              precision    recall  f1-score   support\n",
      "\n",
      "           0       0.93      0.99      0.96     20097\n",
      "           1       0.63      0.14      0.23      1827\n",
      "\n",
      "    accuracy                           0.92     21924\n",
      "   macro avg       0.78      0.57      0.59     21924\n",
      "weighted avg       0.90      0.92      0.90     21924\n",
      "\n"
     ]
    }
   ],
   "source": [
    "print(confusion_matrix(y_test, pred))\n",
    "print(classification_report(y_test, pred))"
   ]
  },
  {
   "cell_type": "markdown",
   "metadata": {},
   "source": [
    "In above classification report got low recall & f1-score for class 1(is_promoted)."
   ]
  },
  {
   "cell_type": "code",
   "execution_count": null,
   "metadata": {},
   "outputs": [],
   "source": []
  },
  {
   "cell_type": "markdown",
   "metadata": {},
   "source": [
    "# XGBClassifier"
   ]
  },
  {
   "cell_type": "code",
   "execution_count": 32,
   "metadata": {},
   "outputs": [
    {
     "name": "stdout",
     "output_type": "stream",
     "text": [
      "Fitting 3 folds for each of 10 candidates, totalling 30 fits\n"
     ]
    },
    {
     "name": "stderr",
     "output_type": "stream",
     "text": [
      "[Parallel(n_jobs=-1)]: Using backend LokyBackend with 4 concurrent workers.\n",
      "[Parallel(n_jobs=-1)]: Done  30 out of  30 | elapsed: 42.5min finished\n"
     ]
    },
    {
     "name": "stdout",
     "output_type": "stream",
     "text": [
      "Best Parameters : {'reg_alpha': 0.3, 'n_estimators': 1100, 'max_depth': 7, 'learning_rate': 0.01}\n"
     ]
    }
   ],
   "source": [
    "#  Create parameters to search\n",
    "params = {\n",
    "     'learning_rate': [0.01],#learning rate\n",
    "     'n_estimators': [900, 1000, 1100],# no. of trees\n",
    "     'max_depth':[7,8,9],\n",
    "     'reg_alpha':[0.3, 0.4, 0.5] # regularization alpha(lasso)\n",
    "    }\n",
    " \n",
    "# Initializing the XGBoost Classifier\n",
    "xgb_model = XGBClassifier()\n",
    " \n",
    "# Gridsearch initialization\n",
    "gsearch = RandomizedSearchCV(xgb_model, params,\n",
    "                    verbose=True,\n",
    "                    cv=3,\n",
    "                    n_jobs=-1)\n",
    " \n",
    "gsearch.fit(train_xs, labels)\n",
    " \n",
    "#Printing the best chosen params\n",
    "print(\"Best Parameters :\",gsearch.best_params_)\n",
    " \n",
    "params = {'objective':'binary:logistic', 'booster':'gbtree'}\n",
    " \n",
    "# Updating the parameter as per grid search\n",
    "params.update(gsearch.best_params_)\n"
   ]
  },
  {
   "cell_type": "code",
   "execution_count": 33,
   "metadata": {},
   "outputs": [],
   "source": [
    "from sklearn.metrics import confusion_matrix, f1_score, precision_recall_curve\n",
    "model1 = XGBClassifier(**params)\n",
    "model1.fit(x_train, y_train)\n",
    "# make predictions for test data\n",
    "y_pred = model1.predict(x_test)\n",
    "# predictions = [round(value) for value in y_pred]"
   ]
  },
  {
   "cell_type": "code",
   "execution_count": 34,
   "metadata": {},
   "outputs": [
    {
     "name": "stdout",
     "output_type": "stream",
     "text": [
      "Accuracy of XGBoost classifier on training set: 0.94\n",
      "Accuracy of XGBoost classifier on test set: 0.94\n"
     ]
    }
   ],
   "source": [
    "print('Accuracy of XGBoost classifier on training set: {:.2f}'\n",
    "     .format(model1.score(x_train, y_train)))\n",
    "print('Accuracy of XGBoost classifier on test set: {:.2f}'\n",
    "     .format(model1.score(x_test, y_test)))"
   ]
  },
  {
   "cell_type": "code",
   "execution_count": 35,
   "metadata": {},
   "outputs": [],
   "source": [
    "precision, recall, thresholds = precision_recall_curve(y_test, y_pred)\n",
    "thresholds = np.append(thresholds, 1)"
   ]
  },
  {
   "cell_type": "code",
   "execution_count": 36,
   "metadata": {},
   "outputs": [
    {
     "data": {
      "image/png": "[encoded data removed]",
      "text/plain": [
       "<Figure size 432x288 with 1 Axes>"
      ]
     },
     "metadata": {
      "needs_background": "light"
     },
     "output_type": "display_data"
    }
   ],
   "source": [
    "f1_scores = 2*(precision*recall)/(precision+recall)\n",
    "plt.step(recall, precision, color='b', alpha=0.4, where='post')\n",
    "plt.xlabel('Recall')\n",
    "plt.ylabel('Precision')\n",
    "plt.ylim([0.0, 1.05])\n",
    "plt.xlim([0.0, 1.0])\n",
    "plt.title('2-class Precision-Recall curve')\n",
    "plt.show()"
   ]
  },
  {
   "cell_type": "code",
   "execution_count": 37,
   "metadata": {},
   "outputs": [
    {
     "data": {
      "text/plain": [
       "array([0, 0, 0, ..., 0, 0, 0], dtype=int64)"
      ]
     },
     "execution_count": 37,
     "metadata": {},
     "output_type": "execute_result"
    }
   ],
   "source": [
    "y_pred"
   ]
  },
  {
   "cell_type": "code",
   "execution_count": 38,
   "metadata": {},
   "outputs": [
    {
     "name": "stdout",
     "output_type": "stream",
     "text": [
      "[0.15384615 0.50739113 0.        ]\n"
     ]
    }
   ],
   "source": [
    "print(f1_scores)"
   ]
  },
  {
   "cell_type": "code",
   "execution_count": 39,
   "metadata": {},
   "outputs": [
    {
     "name": "stdout",
     "output_type": "stream",
     "text": [
      "[1.         0.34756431 0.        ]\n"
     ]
    }
   ],
   "source": [
    "print(recall)"
   ]
  },
  {
   "cell_type": "code",
   "execution_count": 40,
   "metadata": {},
   "outputs": [
    {
     "name": "stdout",
     "output_type": "stream",
     "text": [
      "Threshold cutoff:  1\n",
      "Max F1-score at cut-off :  0.5073911306432282\n"
     ]
    },
    {
     "data": {
      "text/plain": [
       "<matplotlib.axes._subplots.AxesSubplot at 0x286f0254e80>"
      ]
     },
     "execution_count": 40,
     "metadata": {},
     "output_type": "execute_result"
    },
    {
     "data": {
      "image/png": "[encoded data removed]",
      "text/plain": [
       "<Figure size 432x288 with 1 Axes>"
      ]
     },
     "metadata": {
      "needs_background": "light"
     },
     "output_type": "display_data"
    }
   ],
   "source": [
    "scrs = pd.DataFrame({'precision' : precision, 'recall' : recall, 'thresholds' : thresholds, 'f1_score':f1_scores})\n",
    "print(\"Threshold cutoff: \",scrs.loc[scrs['f1_score'] == scrs.f1_score.max(),'thresholds'].iloc[0])\n",
    "print(\"Max F1-score at cut-off : \",scrs.f1_score.max())\n",
    "scrs.plot(x='thresholds', y='f1_score')"
   ]
  },
  {
   "cell_type": "code",
   "execution_count": null,
   "metadata": {},
   "outputs": [],
   "source": []
  },
  {
   "cell_type": "code",
   "execution_count": 44,
   "metadata": {},
   "outputs": [
    {
     "name": "stdout",
     "output_type": "stream",
     "text": [
      "Average precision-recall score: 0.38\n"
     ]
    }
   ],
   "source": [
    "from sklearn.metrics import average_precision_score\n",
    "average_precision = average_precision_score(y_test, y_pred)\n",
    "\n",
    "print('Average precision-recall score: {0:0.2f}'.format(\n",
    "      average_precision))"
   ]
  },
  {
   "cell_type": "code",
   "execution_count": 45,
   "metadata": {},
   "outputs": [
    {
     "data": {
      "text/plain": [
       "Text(0.5, 1.0, '2-class Precision-Recall curve: AP=0.38')"
      ]
     },
     "execution_count": 45,
     "metadata": {},
     "output_type": "execute_result"
    },
    {
     "data": {
      "image/png": "[encoded data removed]",
      "text/plain": [
       "<Figure size 432x288 with 1 Axes>"
      ]
     },
     "metadata": {
      "needs_background": "light"
     },
     "output_type": "display_data"
    }
   ],
   "source": [
    "from sklearn.metrics import precision_recall_curve\n",
    "from sklearn.metrics import plot_precision_recall_curve\n",
    "import matplotlib.pyplot as plt\n",
    "\n",
    "disp = plot_precision_recall_curve(model1, x_test, y_test)\n",
    "disp.ax_.set_title('2-class Precision-Recall curve: '\n",
    "                   'AP={0:0.2f}'.format(average_precision))"
   ]
  },
  {
   "cell_type": "code",
   "execution_count": 46,
   "metadata": {},
   "outputs": [
    {
     "name": "stdout",
     "output_type": "stream",
     "text": [
      "Accuracy: 94.38%\n"
     ]
    }
   ],
   "source": [
    "accuracy = accuracy_score(y_test, y_pred)\n",
    "print(\"Accuracy: %.2f%%\" % (accuracy * 100.0))"
   ]
  },
  {
   "cell_type": "code",
   "execution_count": 47,
   "metadata": {},
   "outputs": [
    {
     "name": "stdout",
     "output_type": "stream",
     "text": [
      "Accuracy of XGBoost classifier on training set: 0.94\n",
      "Accuracy of XGBoost classifier on test set: 0.94\n"
     ]
    }
   ],
   "source": [
    "print('Accuracy of XGBoost classifier on training set: {:.2f}'\n",
    "     .format(model1.score(x_train, y_train)))\n",
    "print('Accuracy of XGBoost classifier on test set: {:.2f}'\n",
    "     .format(model1.score(x_test, y_test)))"
   ]
  },
  {
   "cell_type": "code",
   "execution_count": 48,
   "metadata": {},
   "outputs": [
    {
     "name": "stdout",
     "output_type": "stream",
     "text": [
      "[[20056    41]\n",
      " [ 1192   635]]\n",
      "              precision    recall  f1-score   support\n",
      "\n",
      "           0       0.94      1.00      0.97     20097\n",
      "           1       0.94      0.35      0.51      1827\n",
      "\n",
      "    accuracy                           0.94     21924\n",
      "   macro avg       0.94      0.67      0.74     21924\n",
      "weighted avg       0.94      0.94      0.93     21924\n",
      "\n"
     ]
    }
   ],
   "source": [
    "print(confusion_matrix(y_test, y_pred))\n",
    "print(classification_report(y_test, y_pred))"
   ]
  },
  {
   "cell_type": "code",
   "execution_count": 87,
   "metadata": {},
   "outputs": [
    {
     "name": "stdout",
     "output_type": "stream",
     "text": [
      "AUC: 0.673\n"
     ]
    }
   ],
   "source": [
    "from sklearn.metrics import roc_auc_score\n",
    "auc=roc_auc_score(y_test,y_pred)\n",
    "print(\"AUC: %.3f\" %auc)"
   ]
  },
  {
   "cell_type": "markdown",
   "metadata": {},
   "source": [
    "# LGBMClassifier"
   ]
  },
  {
   "cell_type": "code",
   "execution_count": 74,
   "metadata": {},
   "outputs": [],
   "source": [
    "# lightgbm.LGBMClassifier()\n",
    "lgbm_model = lightgbm.LGBMClassifier(objective='binary')\n",
    "lgbm_model.fit(x_train, y_train)\n",
    "# make predictions for test data\n",
    "y_pred1 = lgbm_model.predict(x_test)\n",
    "predictions1 = [round(value) for value in y_pred1]"
   ]
  },
  {
   "cell_type": "code",
   "execution_count": 75,
   "metadata": {},
   "outputs": [
    {
     "name": "stdout",
     "output_type": "stream",
     "text": [
      "Accuracy: 94.40%\n"
     ]
    }
   ],
   "source": [
    "accuracy = accuracy_score(y_test, predictions1)\n",
    "print(\"Accuracy: %.2f%%\" % (accuracy * 100.0))"
   ]
  },
  {
   "cell_type": "code",
   "execution_count": 76,
   "metadata": {},
   "outputs": [
    {
     "name": "stdout",
     "output_type": "stream",
     "text": [
      "Accuracy of LGBMClassifier on training set: 0.94\n",
      "Accuracy of LGBMClassifier on test set: 0.94\n"
     ]
    }
   ],
   "source": [
    "print('Accuracy of LGBMClassifier on training set: {:.2f}'\n",
    "     .format(lgbm_model.score(x_train, y_train)))\n",
    "print('Accuracy of LGBMClassifier on test set: {:.2f}'\n",
    "     .format(lgbm_model.score(x_test, y_test)))"
   ]
  },
  {
   "cell_type": "code",
   "execution_count": 77,
   "metadata": {},
   "outputs": [
    {
     "name": "stdout",
     "output_type": "stream",
     "text": [
      "[[20058    39]\n",
      " [ 1188   639]]\n",
      "              precision    recall  f1-score   support\n",
      "\n",
      "           0       0.94      1.00      0.97     20097\n",
      "           1       0.94      0.35      0.51      1827\n",
      "\n",
      "    accuracy                           0.94     21924\n",
      "   macro avg       0.94      0.67      0.74     21924\n",
      "weighted avg       0.94      0.94      0.93     21924\n",
      "\n"
     ]
    }
   ],
   "source": [
    "print(confusion_matrix(y_test, y_pred1))\n",
    "print(classification_report(y_test, y_pred1))"
   ]
  },
  {
   "cell_type": "code",
   "execution_count": 86,
   "metadata": {},
   "outputs": [
    {
     "name": "stdout",
     "output_type": "stream",
     "text": [
      "AUC: 0.674\n"
     ]
    }
   ],
   "source": [
    "from sklearn.metrics import roc_auc_score\n",
    "auc=roc_auc_score(y_test,y_pred1)\n",
    "print(\"AUC: %.3f\" %auc)"
   ]
  },
  {
   "cell_type": "markdown",
   "metadata": {},
   "source": [
    "XGBClassifier & LGBMClassifier gives same accuracy on train dataset."
   ]
  },
  {
   "cell_type": "markdown",
   "metadata": {},
   "source": [
    "# Working on test dataset"
   ]
  },
  {
   "cell_type": "code",
   "execution_count": 53,
   "metadata": {},
   "outputs": [
    {
     "data": {
      "text/html": [
       "<div>\n",
       "<style scoped>\n",
       "    .dataframe tbody tr th:only-of-type {\n",
       "        vertical-align: middle;\n",
       "    }\n",
       "\n",
       "    .dataframe tbody tr th {\n",
       "        vertical-align: top;\n",
       "    }\n",
       "\n",
       "    .dataframe thead th {\n",
       "        text-align: right;\n",
       "    }\n",
       "</style>\n",
       "<table border=\"1\" class=\"dataframe\">\n",
       "  <thead>\n",
       "    <tr style=\"text-align: right;\">\n",
       "      <th></th>\n",
       "      <th>employee_id</th>\n",
       "      <th>department</th>\n",
       "      <th>region</th>\n",
       "      <th>education</th>\n",
       "      <th>gender</th>\n",
       "      <th>recruitment_channel</th>\n",
       "      <th>no_of_trainings</th>\n",
       "      <th>age</th>\n",
       "      <th>previous_year_rating</th>\n",
       "      <th>length_of_service</th>\n",
       "      <th>KPIs_met &gt;80%</th>\n",
       "      <th>awards_won?</th>\n",
       "      <th>avg_training_score</th>\n",
       "    </tr>\n",
       "  </thead>\n",
       "  <tbody>\n",
       "    <tr>\n",
       "      <th>0</th>\n",
       "      <td>8724</td>\n",
       "      <td>Technology</td>\n",
       "      <td>region_26</td>\n",
       "      <td>Bachelor's</td>\n",
       "      <td>m</td>\n",
       "      <td>sourcing</td>\n",
       "      <td>1</td>\n",
       "      <td>24</td>\n",
       "      <td>NaN</td>\n",
       "      <td>1</td>\n",
       "      <td>1</td>\n",
       "      <td>0</td>\n",
       "      <td>77</td>\n",
       "    </tr>\n",
       "    <tr>\n",
       "      <th>1</th>\n",
       "      <td>74430</td>\n",
       "      <td>HR</td>\n",
       "      <td>region_4</td>\n",
       "      <td>Bachelor's</td>\n",
       "      <td>f</td>\n",
       "      <td>other</td>\n",
       "      <td>1</td>\n",
       "      <td>31</td>\n",
       "      <td>3.0</td>\n",
       "      <td>5</td>\n",
       "      <td>0</td>\n",
       "      <td>0</td>\n",
       "      <td>51</td>\n",
       "    </tr>\n",
       "    <tr>\n",
       "      <th>2</th>\n",
       "      <td>72255</td>\n",
       "      <td>Sales &amp; Marketing</td>\n",
       "      <td>region_13</td>\n",
       "      <td>Bachelor's</td>\n",
       "      <td>m</td>\n",
       "      <td>other</td>\n",
       "      <td>1</td>\n",
       "      <td>31</td>\n",
       "      <td>1.0</td>\n",
       "      <td>4</td>\n",
       "      <td>0</td>\n",
       "      <td>0</td>\n",
       "      <td>47</td>\n",
       "    </tr>\n",
       "    <tr>\n",
       "      <th>3</th>\n",
       "      <td>38562</td>\n",
       "      <td>Procurement</td>\n",
       "      <td>region_2</td>\n",
       "      <td>Bachelor's</td>\n",
       "      <td>f</td>\n",
       "      <td>other</td>\n",
       "      <td>3</td>\n",
       "      <td>31</td>\n",
       "      <td>2.0</td>\n",
       "      <td>9</td>\n",
       "      <td>0</td>\n",
       "      <td>0</td>\n",
       "      <td>65</td>\n",
       "    </tr>\n",
       "  </tbody>\n",
       "</table>\n",
       "</div>"
      ],
      "text/plain": [
       "   employee_id         department     region   education gender  \\\n",
       "0         8724         Technology  region_26  Bachelor's      m   \n",
       "1        74430                 HR   region_4  Bachelor's      f   \n",
       "2        72255  Sales & Marketing  region_13  Bachelor's      m   \n",
       "3        38562        Procurement   region_2  Bachelor's      f   \n",
       "\n",
       "  recruitment_channel  no_of_trainings  age  previous_year_rating  \\\n",
       "0            sourcing                1   24                   NaN   \n",
       "1               other                1   31                   3.0   \n",
       "2               other                1   31                   1.0   \n",
       "3               other                3   31                   2.0   \n",
       "\n",
       "   length_of_service  KPIs_met >80%  awards_won?  avg_training_score  \n",
       "0                  1              1            0                  77  \n",
       "1                  5              0            0                  51  \n",
       "2                  4              0            0                  47  \n",
       "3                  9              0            0                  65  "
      ]
     },
     "execution_count": 53,
     "metadata": {},
     "output_type": "execute_result"
    }
   ],
   "source": [
    "df_test=pd.read_csv(\"D:\\\\Analytics Vidhya\\\\test_2umaH9m.csv\")\n",
    "df_test.head(4)"
   ]
  },
  {
   "cell_type": "code",
   "execution_count": 55,
   "metadata": {},
   "outputs": [
    {
     "data": {
      "text/plain": [
       "(23490, 13)"
      ]
     },
     "execution_count": 55,
     "metadata": {},
     "output_type": "execute_result"
    }
   ],
   "source": [
    "df_test.shape"
   ]
  },
  {
   "cell_type": "code",
   "execution_count": 56,
   "metadata": {},
   "outputs": [
    {
     "data": {
      "text/plain": [
       "<matplotlib.axes._subplots.AxesSubplot at 0x286f2567f98>"
      ]
     },
     "execution_count": 56,
     "metadata": {},
     "output_type": "execute_result"
    },
    {
     "data": {
      "image/png": "[encoded data removed]",
      "text/plain": [
       "<Figure size 432x288 with 1 Axes>"
      ]
     },
     "metadata": {
      "needs_background": "light"
     },
     "output_type": "display_data"
    }
   ],
   "source": [
    "df_test['region'].value_counts(normalize=True).plot(kind='bar')"
   ]
  },
  {
   "cell_type": "code",
   "execution_count": 58,
   "metadata": {},
   "outputs": [
    {
     "data": {
      "text/plain": [
       "employee_id               int64\n",
       "department               object\n",
       "region                   object\n",
       "education                object\n",
       "gender                   object\n",
       "recruitment_channel      object\n",
       "no_of_trainings           int64\n",
       "age                       int64\n",
       "previous_year_rating    float64\n",
       "length_of_service         int64\n",
       "KPIs_met >80%             int64\n",
       "awards_won?               int64\n",
       "avg_training_score        int64\n",
       "dtype: object"
      ]
     },
     "execution_count": 58,
     "metadata": {},
     "output_type": "execute_result"
    }
   ],
   "source": [
    "df_test.dtypes"
   ]
  },
  {
   "cell_type": "code",
   "execution_count": 59,
   "metadata": {},
   "outputs": [
    {
     "data": {
      "text/plain": [
       "employee_id                0\n",
       "department                 0\n",
       "region                     0\n",
       "education               1034\n",
       "gender                     0\n",
       "recruitment_channel        0\n",
       "no_of_trainings            0\n",
       "age                        0\n",
       "previous_year_rating    1812\n",
       "length_of_service          0\n",
       "KPIs_met >80%              0\n",
       "awards_won?                0\n",
       "avg_training_score         0\n",
       "dtype: int64"
      ]
     },
     "execution_count": 59,
     "metadata": {},
     "output_type": "execute_result"
    }
   ],
   "source": [
    "df_test.isnull().sum()"
   ]
  },
  {
   "cell_type": "code",
   "execution_count": 60,
   "metadata": {},
   "outputs": [],
   "source": [
    "df_test['education'].fillna(df_test['education'].mode()[0],inplace = True)\n",
    "df_test[\"previous_year_rating\"].fillna(df_test[\"previous_year_rating\"].mode()[0],inplace = True)"
   ]
  },
  {
   "cell_type": "code",
   "execution_count": 61,
   "metadata": {},
   "outputs": [
    {
     "name": "stdout",
     "output_type": "stream",
     "text": [
      "Converting.... department\n",
      "Converting.... region\n",
      "Converting.... education\n",
      "Converting.... gender\n",
      "Converting.... recruitment_channel\n",
      "Total shape of Data : (23490, 59)\n",
      "Columns which need to be dropped : ['department', 'region', 'education', 'gender', 'recruitment_channel']\n",
      "Total shape of Data : (23490, 54)\n"
     ]
    }
   ],
   "source": [
    "# Convert data to dummy variables\n",
    "processed_data, list_to_drop = convert_categorical_to_dummies(df_test)\n",
    "print(\"Total shape of Data :\", processed_data.shape)\n",
    "print(\"Columns which need to be dropped :\", list_to_drop)\n",
    "processed_data = processed_data.drop(list_to_drop, axis = 1)\n",
    "print(\"Total shape of Data :\", processed_data.shape)\n",
    "\n",
    "# Removing the id attributes\n",
    "test_data = processed_data.drop(['employee_id'],axis=1)\n",
    "y_pred2 = model1.predict_proba(test_data)"
   ]
  },
  {
   "cell_type": "code",
   "execution_count": 62,
   "metadata": {},
   "outputs": [
    {
     "data": {
      "text/plain": [
       "array([[8.2335836e-01, 1.7664163e-01],\n",
       "       [9.9879193e-01, 1.2080939e-03],\n",
       "       [9.9968815e-01, 3.1182225e-04],\n",
       "       ...,\n",
       "       [9.9921715e-01, 7.8281830e-04],\n",
       "       [9.9739003e-01, 2.6099836e-03],\n",
       "       [2.0736939e-01, 7.9263061e-01]], dtype=float32)"
      ]
     },
     "execution_count": 62,
     "metadata": {},
     "output_type": "execute_result"
    }
   ],
   "source": [
    "y_pred2"
   ]
  },
  {
   "cell_type": "code",
   "execution_count": 63,
   "metadata": {},
   "outputs": [
    {
     "data": {
      "text/html": [
       "<div>\n",
       "<style scoped>\n",
       "    .dataframe tbody tr th:only-of-type {\n",
       "        vertical-align: middle;\n",
       "    }\n",
       "\n",
       "    .dataframe tbody tr th {\n",
       "        vertical-align: top;\n",
       "    }\n",
       "\n",
       "    .dataframe thead th {\n",
       "        text-align: right;\n",
       "    }\n",
       "</style>\n",
       "<table border=\"1\" class=\"dataframe\">\n",
       "  <thead>\n",
       "    <tr style=\"text-align: right;\">\n",
       "      <th></th>\n",
       "      <th>no_of_trainings</th>\n",
       "      <th>age</th>\n",
       "      <th>previous_year_rating</th>\n",
       "      <th>length_of_service</th>\n",
       "      <th>KPIs_met &gt;80%</th>\n",
       "      <th>awards_won?</th>\n",
       "      <th>avg_training_score</th>\n",
       "      <th>department_Finance</th>\n",
       "      <th>department_HR</th>\n",
       "      <th>department_Legal</th>\n",
       "      <th>...</th>\n",
       "      <th>region_region_5</th>\n",
       "      <th>region_region_6</th>\n",
       "      <th>region_region_7</th>\n",
       "      <th>region_region_8</th>\n",
       "      <th>region_region_9</th>\n",
       "      <th>education_Below Secondary</th>\n",
       "      <th>education_Master's &amp; above</th>\n",
       "      <th>gender_m</th>\n",
       "      <th>recruitment_channel_referred</th>\n",
       "      <th>recruitment_channel_sourcing</th>\n",
       "    </tr>\n",
       "  </thead>\n",
       "  <tbody>\n",
       "    <tr>\n",
       "      <th>0</th>\n",
       "      <td>1</td>\n",
       "      <td>24</td>\n",
       "      <td>3.0</td>\n",
       "      <td>1</td>\n",
       "      <td>1</td>\n",
       "      <td>0</td>\n",
       "      <td>77</td>\n",
       "      <td>0</td>\n",
       "      <td>0</td>\n",
       "      <td>0</td>\n",
       "      <td>...</td>\n",
       "      <td>0</td>\n",
       "      <td>0</td>\n",
       "      <td>0</td>\n",
       "      <td>0</td>\n",
       "      <td>0</td>\n",
       "      <td>0</td>\n",
       "      <td>0</td>\n",
       "      <td>1</td>\n",
       "      <td>0</td>\n",
       "      <td>1</td>\n",
       "    </tr>\n",
       "    <tr>\n",
       "      <th>1</th>\n",
       "      <td>1</td>\n",
       "      <td>31</td>\n",
       "      <td>3.0</td>\n",
       "      <td>5</td>\n",
       "      <td>0</td>\n",
       "      <td>0</td>\n",
       "      <td>51</td>\n",
       "      <td>0</td>\n",
       "      <td>1</td>\n",
       "      <td>0</td>\n",
       "      <td>...</td>\n",
       "      <td>0</td>\n",
       "      <td>0</td>\n",
       "      <td>0</td>\n",
       "      <td>0</td>\n",
       "      <td>0</td>\n",
       "      <td>0</td>\n",
       "      <td>0</td>\n",
       "      <td>0</td>\n",
       "      <td>0</td>\n",
       "      <td>0</td>\n",
       "    </tr>\n",
       "    <tr>\n",
       "      <th>2</th>\n",
       "      <td>1</td>\n",
       "      <td>31</td>\n",
       "      <td>1.0</td>\n",
       "      <td>4</td>\n",
       "      <td>0</td>\n",
       "      <td>0</td>\n",
       "      <td>47</td>\n",
       "      <td>0</td>\n",
       "      <td>0</td>\n",
       "      <td>0</td>\n",
       "      <td>...</td>\n",
       "      <td>0</td>\n",
       "      <td>0</td>\n",
       "      <td>0</td>\n",
       "      <td>0</td>\n",
       "      <td>0</td>\n",
       "      <td>0</td>\n",
       "      <td>0</td>\n",
       "      <td>1</td>\n",
       "      <td>0</td>\n",
       "      <td>0</td>\n",
       "    </tr>\n",
       "    <tr>\n",
       "      <th>3</th>\n",
       "      <td>3</td>\n",
       "      <td>31</td>\n",
       "      <td>2.0</td>\n",
       "      <td>9</td>\n",
       "      <td>0</td>\n",
       "      <td>0</td>\n",
       "      <td>65</td>\n",
       "      <td>0</td>\n",
       "      <td>0</td>\n",
       "      <td>0</td>\n",
       "      <td>...</td>\n",
       "      <td>0</td>\n",
       "      <td>0</td>\n",
       "      <td>0</td>\n",
       "      <td>0</td>\n",
       "      <td>0</td>\n",
       "      <td>0</td>\n",
       "      <td>0</td>\n",
       "      <td>0</td>\n",
       "      <td>0</td>\n",
       "      <td>0</td>\n",
       "    </tr>\n",
       "    <tr>\n",
       "      <th>4</th>\n",
       "      <td>1</td>\n",
       "      <td>30</td>\n",
       "      <td>4.0</td>\n",
       "      <td>7</td>\n",
       "      <td>0</td>\n",
       "      <td>0</td>\n",
       "      <td>61</td>\n",
       "      <td>1</td>\n",
       "      <td>0</td>\n",
       "      <td>0</td>\n",
       "      <td>...</td>\n",
       "      <td>0</td>\n",
       "      <td>0</td>\n",
       "      <td>0</td>\n",
       "      <td>0</td>\n",
       "      <td>0</td>\n",
       "      <td>0</td>\n",
       "      <td>0</td>\n",
       "      <td>1</td>\n",
       "      <td>0</td>\n",
       "      <td>1</td>\n",
       "    </tr>\n",
       "  </tbody>\n",
       "</table>\n",
       "<p>5 rows × 53 columns</p>\n",
       "</div>"
      ],
      "text/plain": [
       "   no_of_trainings  age  previous_year_rating  length_of_service  \\\n",
       "0                1   24                   3.0                  1   \n",
       "1                1   31                   3.0                  5   \n",
       "2                1   31                   1.0                  4   \n",
       "3                3   31                   2.0                  9   \n",
       "4                1   30                   4.0                  7   \n",
       "\n",
       "   KPIs_met >80%  awards_won?  avg_training_score  department_Finance  \\\n",
       "0              1            0                  77                   0   \n",
       "1              0            0                  51                   0   \n",
       "2              0            0                  47                   0   \n",
       "3              0            0                  65                   0   \n",
       "4              0            0                  61                   1   \n",
       "\n",
       "   department_HR  department_Legal  ...  region_region_5  region_region_6  \\\n",
       "0              0                 0  ...                0                0   \n",
       "1              1                 0  ...                0                0   \n",
       "2              0                 0  ...                0                0   \n",
       "3              0                 0  ...                0                0   \n",
       "4              0                 0  ...                0                0   \n",
       "\n",
       "   region_region_7  region_region_8  region_region_9  \\\n",
       "0                0                0                0   \n",
       "1                0                0                0   \n",
       "2                0                0                0   \n",
       "3                0                0                0   \n",
       "4                0                0                0   \n",
       "\n",
       "   education_Below Secondary  education_Master's & above  gender_m  \\\n",
       "0                          0                           0         1   \n",
       "1                          0                           0         0   \n",
       "2                          0                           0         1   \n",
       "3                          0                           0         0   \n",
       "4                          0                           0         1   \n",
       "\n",
       "   recruitment_channel_referred  recruitment_channel_sourcing  \n",
       "0                             0                             1  \n",
       "1                             0                             0  \n",
       "2                             0                             0  \n",
       "3                             0                             0  \n",
       "4                             0                             1  \n",
       "\n",
       "[5 rows x 53 columns]"
      ]
     },
     "execution_count": 63,
     "metadata": {},
     "output_type": "execute_result"
    }
   ],
   "source": [
    "test_data.head()"
   ]
  },
  {
   "cell_type": "code",
   "execution_count": 65,
   "metadata": {},
   "outputs": [],
   "source": [
    "predictions = (y_pred2[:,1] >= 0.24252495169639587).astype(\"int\") # 0.5158371040723982.\n",
    "submission_df = pd.DataFrame({'employee_id':df_test['employee_id'],'is_promoted':predictions})\n",
    "submission_df.to_csv(\"XGB_tuned_model.csv\", index=False)"
   ]
  },
  {
   "cell_type": "code",
   "execution_count": 66,
   "metadata": {},
   "outputs": [
    {
     "name": "stdout",
     "output_type": "stream",
     "text": [
      "[0.515625   0.48584906 0.49724626 0.53137103 0.50078247]  Mean =  0.5061747644423162\n",
      "[1]\tvalid_0's auc: 0.839926\tvalid_0's binary_logloss: 0.266081\n",
      "Training until validation scores don't improve for 150 rounds\n",
      "[2]\tvalid_0's auc: 0.876561\tvalid_0's binary_logloss: 0.249285\n",
      "[3]\tvalid_0's auc: 0.885309\tvalid_0's binary_logloss: 0.237792\n",
      "[4]\tvalid_0's auc: 0.893881\tvalid_0's binary_logloss: 0.228496\n",
      "[5]\tvalid_0's auc: 0.893472\tvalid_0's binary_logloss: 0.221227\n",
      "[6]\tvalid_0's auc: 0.893301\tvalid_0's binary_logloss: 0.214957\n",
      "[7]\tvalid_0's auc: 0.894574\tvalid_0's binary_logloss: 0.20984\n",
      "[8]\tvalid_0's auc: 0.897092\tvalid_0's binary_logloss: 0.204938\n",
      "[9]\tvalid_0's auc: 0.897555\tvalid_0's binary_logloss: 0.201144\n",
      "[10]\tvalid_0's auc: 0.897685\tvalid_0's binary_logloss: 0.197417\n",
      "[11]\tvalid_0's auc: 0.898866\tvalid_0's binary_logloss: 0.194239\n",
      "[12]\tvalid_0's auc: 0.898739\tvalid_0's binary_logloss: 0.191564\n",
      "[13]\tvalid_0's auc: 0.898723\tvalid_0's binary_logloss: 0.189478\n",
      "[14]\tvalid_0's auc: 0.900177\tvalid_0's binary_logloss: 0.187389\n",
      "[15]\tvalid_0's auc: 0.901157\tvalid_0's binary_logloss: 0.185193\n",
      "[16]\tvalid_0's auc: 0.901885\tvalid_0's binary_logloss: 0.183129\n",
      "[17]\tvalid_0's auc: 0.902608\tvalid_0's binary_logloss: 0.181037\n",
      "[18]\tvalid_0's auc: 0.903406\tvalid_0's binary_logloss: 0.179503\n",
      "[19]\tvalid_0's auc: 0.903286\tvalid_0's binary_logloss: 0.178349\n",
      "[20]\tvalid_0's auc: 0.903668\tvalid_0's binary_logloss: 0.177121\n",
      "[21]\tvalid_0's auc: 0.903881\tvalid_0's binary_logloss: 0.175887\n",
      "[22]\tvalid_0's auc: 0.904019\tvalid_0's binary_logloss: 0.174845\n",
      "[23]\tvalid_0's auc: 0.904303\tvalid_0's binary_logloss: 0.174017\n",
      "[24]\tvalid_0's auc: 0.904319\tvalid_0's binary_logloss: 0.173305\n",
      "[25]\tvalid_0's auc: 0.904271\tvalid_0's binary_logloss: 0.172818\n",
      "[26]\tvalid_0's auc: 0.903653\tvalid_0's binary_logloss: 0.172362\n",
      "[27]\tvalid_0's auc: 0.904429\tvalid_0's binary_logloss: 0.171341\n",
      "[28]\tvalid_0's auc: 0.904858\tvalid_0's binary_logloss: 0.170549\n",
      "[29]\tvalid_0's auc: 0.905198\tvalid_0's binary_logloss: 0.16987\n",
      "[30]\tvalid_0's auc: 0.905381\tvalid_0's binary_logloss: 0.169124\n",
      "[31]\tvalid_0's auc: 0.905595\tvalid_0's binary_logloss: 0.168602\n",
      "[32]\tvalid_0's auc: 0.905544\tvalid_0's binary_logloss: 0.168257\n",
      "[33]\tvalid_0's auc: 0.905853\tvalid_0's binary_logloss: 0.167913\n",
      "[34]\tvalid_0's auc: 0.906022\tvalid_0's binary_logloss: 0.16781\n",
      "[35]\tvalid_0's auc: 0.905769\tvalid_0's binary_logloss: 0.167715\n",
      "[36]\tvalid_0's auc: 0.906178\tvalid_0's binary_logloss: 0.167258\n",
      "[37]\tvalid_0's auc: 0.90649\tvalid_0's binary_logloss: 0.166777\n",
      "[38]\tvalid_0's auc: 0.90637\tvalid_0's binary_logloss: 0.166698\n",
      "[39]\tvalid_0's auc: 0.906748\tvalid_0's binary_logloss: 0.166379\n",
      "[40]\tvalid_0's auc: 0.906992\tvalid_0's binary_logloss: 0.166116\n",
      "[41]\tvalid_0's auc: 0.907285\tvalid_0's binary_logloss: 0.165629\n",
      "[42]\tvalid_0's auc: 0.907394\tvalid_0's binary_logloss: 0.165388\n",
      "[43]\tvalid_0's auc: 0.907624\tvalid_0's binary_logloss: 0.165058\n",
      "[44]\tvalid_0's auc: 0.907634\tvalid_0's binary_logloss: 0.164849\n",
      "[45]\tvalid_0's auc: 0.907587\tvalid_0's binary_logloss: 0.164799\n",
      "[46]\tvalid_0's auc: 0.907953\tvalid_0's binary_logloss: 0.164627\n",
      "[47]\tvalid_0's auc: 0.907818\tvalid_0's binary_logloss: 0.164581\n",
      "[48]\tvalid_0's auc: 0.907748\tvalid_0's binary_logloss: 0.164535\n",
      "[49]\tvalid_0's auc: 0.907577\tvalid_0's binary_logloss: 0.164399\n",
      "[50]\tvalid_0's auc: 0.90785\tvalid_0's binary_logloss: 0.164318\n",
      "[51]\tvalid_0's auc: 0.908324\tvalid_0's binary_logloss: 0.164046\n",
      "[52]\tvalid_0's auc: 0.908539\tvalid_0's binary_logloss: 0.163883\n",
      "[53]\tvalid_0's auc: 0.908605\tvalid_0's binary_logloss: 0.163853\n",
      "[54]\tvalid_0's auc: 0.908622\tvalid_0's binary_logloss: 0.163759\n",
      "[55]\tvalid_0's auc: 0.908629\tvalid_0's binary_logloss: 0.163717\n",
      "[56]\tvalid_0's auc: 0.908605\tvalid_0's binary_logloss: 0.163662\n",
      "[57]\tvalid_0's auc: 0.908431\tvalid_0's binary_logloss: 0.163766\n",
      "[58]\tvalid_0's auc: 0.90839\tvalid_0's binary_logloss: 0.163825\n",
      "[59]\tvalid_0's auc: 0.908276\tvalid_0's binary_logloss: 0.163853\n",
      "[60]\tvalid_0's auc: 0.908211\tvalid_0's binary_logloss: 0.163927\n",
      "[61]\tvalid_0's auc: 0.90797\tvalid_0's binary_logloss: 0.163998\n",
      "[62]\tvalid_0's auc: 0.907993\tvalid_0's binary_logloss: 0.163965\n",
      "[63]\tvalid_0's auc: 0.90825\tvalid_0's binary_logloss: 0.163862\n",
      "[64]\tvalid_0's auc: 0.908595\tvalid_0's binary_logloss: 0.163561\n",
      "[65]\tvalid_0's auc: 0.908952\tvalid_0's binary_logloss: 0.163489\n",
      "[66]\tvalid_0's auc: 0.909012\tvalid_0's binary_logloss: 0.163208\n",
      "[67]\tvalid_0's auc: 0.908934\tvalid_0's binary_logloss: 0.163245\n",
      "[68]\tvalid_0's auc: 0.908903\tvalid_0's binary_logloss: 0.16329\n",
      "[69]\tvalid_0's auc: 0.908915\tvalid_0's binary_logloss: 0.163332\n",
      "[70]\tvalid_0's auc: 0.908872\tvalid_0's binary_logloss: 0.163354\n",
      "[71]\tvalid_0's auc: 0.90924\tvalid_0's binary_logloss: 0.163233\n",
      "[72]\tvalid_0's auc: 0.909322\tvalid_0's binary_logloss: 0.163205\n",
      "[73]\tvalid_0's auc: 0.90942\tvalid_0's binary_logloss: 0.16317\n",
      "[74]\tvalid_0's auc: 0.909392\tvalid_0's binary_logloss: 0.163217\n",
      "[75]\tvalid_0's auc: 0.909624\tvalid_0's binary_logloss: 0.163081\n",
      "[76]\tvalid_0's auc: 0.909727\tvalid_0's binary_logloss: 0.163036\n",
      "[77]\tvalid_0's auc: 0.909821\tvalid_0's binary_logloss: 0.162988\n",
      "[78]\tvalid_0's auc: 0.909839\tvalid_0's binary_logloss: 0.162985\n",
      "[79]\tvalid_0's auc: 0.909743\tvalid_0's binary_logloss: 0.163056\n",
      "[80]\tvalid_0's auc: 0.909629\tvalid_0's binary_logloss: 0.163197\n",
      "[81]\tvalid_0's auc: 0.909652\tvalid_0's binary_logloss: 0.163244\n",
      "[82]\tvalid_0's auc: 0.909513\tvalid_0's binary_logloss: 0.163287\n",
      "[83]\tvalid_0's auc: 0.909577\tvalid_0's binary_logloss: 0.163223\n",
      "[84]\tvalid_0's auc: 0.909437\tvalid_0's binary_logloss: 0.163282\n",
      "[85]\tvalid_0's auc: 0.909609\tvalid_0's binary_logloss: 0.163195\n",
      "[86]\tvalid_0's auc: 0.909436\tvalid_0's binary_logloss: 0.163261\n",
      "[87]\tvalid_0's auc: 0.909445\tvalid_0's binary_logloss: 0.163294\n",
      "[88]\tvalid_0's auc: 0.909499\tvalid_0's binary_logloss: 0.163306\n",
      "[89]\tvalid_0's auc: 0.909296\tvalid_0's binary_logloss: 0.163351\n",
      "[90]\tvalid_0's auc: 0.909327\tvalid_0's binary_logloss: 0.163198\n",
      "[91]\tvalid_0's auc: 0.909358\tvalid_0's binary_logloss: 0.163215\n",
      "[92]\tvalid_0's auc: 0.909278\tvalid_0's binary_logloss: 0.163256\n",
      "[93]\tvalid_0's auc: 0.909082\tvalid_0's binary_logloss: 0.163342\n",
      "[94]\tvalid_0's auc: 0.909117\tvalid_0's binary_logloss: 0.163276\n",
      "[95]\tvalid_0's auc: 0.909006\tvalid_0's binary_logloss: 0.163341\n",
      "[96]\tvalid_0's auc: 0.908988\tvalid_0's binary_logloss: 0.163397\n",
      "[97]\tvalid_0's auc: 0.908976\tvalid_0's binary_logloss: 0.163365\n",
      "[98]\tvalid_0's auc: 0.909114\tvalid_0's binary_logloss: 0.1633\n",
      "[99]\tvalid_0's auc: 0.90909\tvalid_0's binary_logloss: 0.163336\n",
      "[100]\tvalid_0's auc: 0.909051\tvalid_0's binary_logloss: 0.163323\n",
      "Did not meet early stopping. Best iteration is:\n",
      "[78]\tvalid_0's auc: 0.909839\tvalid_0's binary_logloss: 0.162985\n"
     ]
    },
    {
     "data": {
      "text/plain": [
       "LGBMClassifier(boosting_type='gbdt', class_weight=None, colsample_bytree=1.0,\n",
       "               importance_type='split', learning_rate=0.1, max_depth=-1,\n",
       "               min_child_samples=20, min_child_weight=0.001, min_split_gain=0.0,\n",
       "               n_estimators=100, n_jobs=-1, num_leaves=31, objective='binary',\n",
       "               random_state=None, reg_alpha=0.0, reg_lambda=0.0, silent=True,\n",
       "               subsample=1.0, subsample_for_bin=200000, subsample_freq=0)"
      ]
     },
     "execution_count": 66,
     "metadata": {},
     "output_type": "execute_result"
    }
   ],
   "source": [
    "# Try lightgbm\n",
    "# Initializing the LightGBM model\n",
    "gbm_model = lightgbm.LGBMClassifier(objective='binary')\n",
    "\n",
    "# Cross validation score \n",
    "f1_scores = cross_val_score(gbm_model, train_xs, labels, cv=5, scoring='f1',n_jobs=-1)\n",
    "print(f1_scores,\" Mean = \",np.mean(f1_scores))\n",
    "\n",
    "# Splitting the dataset in order to use early stopping round\n",
    "X_train, X_test, y_train, y_test = train_test_split(train_xs, labels, test_size=0.10, stratify=labels)\n",
    "\n",
    "# Fitting LightGBM model\n",
    "gbm_model.fit(X_train, y_train, eval_set=[(X_test, y_test)], eval_metric='auc', early_stopping_rounds=150)"
   ]
  },
  {
   "cell_type": "code",
   "execution_count": null,
   "metadata": {},
   "outputs": [],
   "source": [
    "print(confusion_matrix(y_test, y_pred1))\n",
    "print(classification_report(y_test, y_pred1))"
   ]
  },
  {
   "cell_type": "code",
   "execution_count": 70,
   "metadata": {},
   "outputs": [],
   "source": [
    "predictions = (y_pred2[:,1] >= 0.4996009577015163).astype(\"int\")\n",
    "submission_df = pd.DataFrame({'employee_id':df_test['employee_id'],'666666':predictions})\n",
    "submission_df.to_csv(\"lgbm_model.csv\", index=False) "
   ]
  },
  {
   "cell_type": "code",
   "execution_count": 68,
   "metadata": {},
   "outputs": [
    {
     "data": {
      "text/plain": [
       "array([0, 0, 0, ..., 0, 0, 1])"
      ]
     },
     "execution_count": 68,
     "metadata": {},
     "output_type": "execute_result"
    }
   ],
   "source": [
    "predictions"
   ]
  },
  {
   "cell_type": "code",
   "execution_count": 69,
   "metadata": {},
   "outputs": [
    {
     "name": "stdout",
     "output_type": "stream",
     "text": [
      "10.741216795201371\n"
     ]
    }
   ],
   "source": [
    "ratio = float(np.sum(labels == 0)) / np.sum(labels==1)\n",
    "print(ratio)"
   ]
  }
 ],
 "metadata": {
  "kernelspec": {
   "display_name": "Python 3",
   "language": "python",
   "name": "python3"
  },
  "language_info": {
   "codemirror_mode": {
    "name": "ipython",
    "version": 3
   },
   "file_extension": ".py",
   "mimetype": "text/x-python",
   "name": "python",
   "nbconvert_exporter": "python",
   "pygments_lexer": "ipython3",
   "version": "3.7.3"
  }
 },
 "nbformat": 4,
 "nbformat_minor": 2
}
